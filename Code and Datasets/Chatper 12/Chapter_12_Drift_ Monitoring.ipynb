{
 "cells": [
  {
   "cell_type": "markdown",
   "metadata": {
    "id": "LxQKMtAFRfqK"
   },
   "source": [
    "## Chapter 12: MLOps\n",
    "\n",
    "### 12.8.3 Implementing Data Drift"
   ]
  },
  {
   "cell_type": "code",
   "execution_count": 4,
   "metadata": {
    "colab": {
     "base_uri": "https://localhost:8080/"
    },
    "executionInfo": {
     "elapsed": 7805,
     "status": "ok",
     "timestamp": 1669023781440,
     "user": {
      "displayName": "MANARANJAN PRADHAN",
      "userId": "03885802779803335284"
     },
     "user_tz": -330
    },
    "id": "8xU3Wjz1I9oY",
    "outputId": "18f8d3a2-5ab8-4612-bedf-267fd68d7029"
   },
   "outputs": [],
   "source": [
    "#!pip install alibi alibi_detect"
   ]
  },
  {
   "cell_type": "code",
   "execution_count": 5,
   "metadata": {
    "executionInfo": {
     "elapsed": 18478,
     "status": "ok",
     "timestamp": 1669023822360,
     "user": {
      "displayName": "MANARANJAN PRADHAN",
      "userId": "03885802779803335284"
     },
     "user_tz": -330
    },
    "id": "0Hm3ZQRSI-Mv"
   },
   "outputs": [],
   "source": [
    "import alibi\n",
    "import pandas as pd\n",
    "import numpy as np\n",
    "import numpy as np\n",
    "import matplotlib.pyplot as plt\n",
    "import seaborn as sn\n",
    "from alibi_detect.cd import TabularDrift"
   ]
  },
  {
   "cell_type": "code",
   "execution_count": 6,
   "metadata": {},
   "outputs": [],
   "source": [
    "train = pd.read_csv( \"train.csv\" )\n",
    "prod = pd.read_csv( \"prod.csv\" )"
   ]
  },
  {
   "cell_type": "code",
   "execution_count": 7,
   "metadata": {
    "executionInfo": {
     "elapsed": 477,
     "status": "ok",
     "timestamp": 1669023842772,
     "user": {
      "displayName": "MANARANJAN PRADHAN",
      "userId": "03885802779803335284"
     },
     "user_tz": -330
    },
    "id": "XelB5OCUJoy8"
   },
   "outputs": [],
   "source": [
    "x_features = list(train.columns)\n",
    "x_features.remove('chd')"
   ]
  },
  {
   "cell_type": "code",
   "execution_count": 8,
   "metadata": {
    "colab": {
     "base_uri": "https://localhost:8080/"
    },
    "executionInfo": {
     "elapsed": 4,
     "status": "ok",
     "timestamp": 1669023843602,
     "user": {
      "displayName": "MANARANJAN PRADHAN",
      "userId": "03885802779803335284"
     },
     "user_tz": -330
    },
    "id": "HwqDyeMnNX0J",
    "outputId": "000bc30a-1d46-47d2-f584-362f69443c59"
   },
   "outputs": [
    {
     "data": {
      "text/plain": [
       "['sbp',\n",
       " 'tobacco',\n",
       " 'ldl',\n",
       " 'adiposity',\n",
       " 'famhist',\n",
       " 'typea',\n",
       " 'obesity',\n",
       " 'alcohol',\n",
       " 'age']"
      ]
     },
     "execution_count": 8,
     "metadata": {},
     "output_type": "execute_result"
    }
   ],
   "source": [
    "x_features"
   ]
  },
  {
   "cell_type": "markdown",
   "metadata": {
    "id": "cEIAr24qRqk_"
   },
   "source": [
    "#### Specify the index of the columns which are categorical feautures"
   ]
  },
  {
   "cell_type": "code",
   "execution_count": 9,
   "metadata": {
    "executionInfo": {
     "elapsed": 382,
     "status": "ok",
     "timestamp": 1669023907302,
     "user": {
      "displayName": "MANARANJAN PRADHAN",
      "userId": "03885802779803335284"
     },
     "user_tz": -330
    },
    "id": "350LZBKTJq-b"
   },
   "outputs": [],
   "source": [
    "cat_vars = [4]"
   ]
  },
  {
   "cell_type": "code",
   "execution_count": 10,
   "metadata": {
    "executionInfo": {
     "elapsed": 4,
     "status": "ok",
     "timestamp": 1669023952529,
     "user": {
      "displayName": "MANARANJAN PRADHAN",
      "userId": "03885802779803335284"
     },
     "user_tz": -330
    },
    "id": "EjM10A-fLnBK"
   },
   "outputs": [],
   "source": [
    "categories_per_feature = {f: None for f in cat_vars}"
   ]
  },
  {
   "cell_type": "code",
   "execution_count": 11,
   "metadata": {
    "colab": {
     "base_uri": "https://localhost:8080/"
    },
    "executionInfo": {
     "elapsed": 4,
     "status": "ok",
     "timestamp": 1669023952530,
     "user": {
      "displayName": "MANARANJAN PRADHAN",
      "userId": "03885802779803335284"
     },
     "user_tz": -330
    },
    "id": "CamTraXrL5hC",
    "outputId": "4e6b6215-91c4-4dda-ef1f-3c4ec6454b21"
   },
   "outputs": [
    {
     "data": {
      "text/plain": [
       "{4: None}"
      ]
     },
     "execution_count": 11,
     "metadata": {},
     "output_type": "execute_result"
    }
   ],
   "source": [
    "categories_per_feature"
   ]
  },
  {
   "cell_type": "markdown",
   "metadata": {
    "id": "-mRPJx2uSO7V"
   },
   "source": [
    "### Measure the drift"
   ]
  },
  {
   "cell_type": "code",
   "execution_count": 12,
   "metadata": {
    "executionInfo": {
     "elapsed": 432,
     "status": "ok",
     "timestamp": 1669024024699,
     "user": {
      "displayName": "MANARANJAN PRADHAN",
      "userId": "03885802779803335284"
     },
     "user_tz": -330
    },
    "id": "nSgNWaKiL6OY"
   },
   "outputs": [],
   "source": [
    "cd = TabularDrift(train[x_features].values, \n",
    "                  p_val=.05, \n",
    "                  categories_per_feature=categories_per_feature)"
   ]
  },
  {
   "cell_type": "code",
   "execution_count": 13,
   "metadata": {
    "executionInfo": {
     "elapsed": 393,
     "status": "ok",
     "timestamp": 1669024055846,
     "user": {
      "displayName": "MANARANJAN PRADHAN",
      "userId": "03885802779803335284"
     },
     "user_tz": -330
    },
    "id": "3Gf7Zs_bToKU"
   },
   "outputs": [],
   "source": [
    "preds = cd.predict(prod[x_features].to_numpy())"
   ]
  },
  {
   "cell_type": "markdown",
   "metadata": {
    "id": "xxsyggTJVHV7"
   },
   "source": [
    "### Printing the test results"
   ]
  },
  {
   "cell_type": "code",
   "execution_count": 14,
   "metadata": {
    "colab": {
     "base_uri": "https://localhost:8080/"
    },
    "executionInfo": {
     "elapsed": 366,
     "status": "ok",
     "timestamp": 1669024076770,
     "user": {
      "displayName": "MANARANJAN PRADHAN",
      "userId": "03885802779803335284"
     },
     "user_tz": -330
    },
    "id": "CJXzQCu7UA_g",
    "outputId": "c3130577-4130-4088-9bfa-3d3b36f6a70f"
   },
   "outputs": [
    {
     "name": "stdout",
     "output_type": "stream",
     "text": [
      "sbp -- K-S 0.139 -- p-value 0.144\n",
      "tobacco -- K-S 0.069 -- p-value 0.888\n",
      "ldl -- K-S 0.205 -- p-value 0.007\n",
      "adiposity -- K-S 0.166 -- p-value 0.047\n",
      "famhist -- Chi2 0.389 -- p-value 0.533\n",
      "typea -- K-S 0.087 -- p-value 0.663\n",
      "obesity -- K-S 0.190 -- p-value 0.015\n",
      "alcohol -- K-S 0.105 -- p-value 0.426\n",
      "age -- K-S 0.117 -- p-value 0.298\n"
     ]
    }
   ],
   "source": [
    "for f in range(cd.n_features):\n",
    "    # chi-squared test for the categorical features and KS test for the numerical features\n",
    "    stat = 'Chi2' if f in list(categories_per_feature.keys()) else 'K-S'\n",
    "    fname = x_features[f]\n",
    "    stat_val, p_val = preds['data']['distance'][f], preds['data']['p_val'][f]\n",
    "    # print the p-value for the tests to observe statistical significance \n",
    "    print(f'{fname} -- {stat} {stat_val:.3f} -- p-value {p_val:.3f}')"
   ]
  },
  {
   "cell_type": "markdown",
   "metadata": {
    "id": "VsoQAU38VSne"
   },
   "source": [
    "### Checking the distribution of Owner_Type in training and production data"
   ]
  },
  {
   "cell_type": "code",
   "execution_count": 217,
   "metadata": {
    "colab": {
     "base_uri": "https://localhost:8080/"
    },
    "executionInfo": {
     "elapsed": 4,
     "status": "ok",
     "timestamp": 1669024148713,
     "user": {
      "displayName": "MANARANJAN PRADHAN",
      "userId": "03885802779803335284"
     },
     "user_tz": -330
    },
    "id": "f8x-FYqsRXMm",
    "outputId": "07da45c2-e4f5-4e75-e67f-258c687dd214"
   },
   "outputs": [
    {
     "data": {
      "image/png": "[encoded data removed]",
      "text/plain": [
       "<Figure size 640x480 with 1 Axes>"
      ]
     },
     "metadata": {},
     "output_type": "display_data"
    }
   ],
   "source": [
    "sn.kdeplot(data = train, x = 'ldl', label = 'train');\n",
    "sn.kdeplot(data = prod, x = 'ldl', label = 'prod');\n",
    "plt.legend();"
   ]
  }
 ],
 "metadata": {
  "colab": {
   "authorship_tag": "ABX9TyNvYSZ7wdDmvcDhNIO9Si83",
   "provenance": []
  },
  "kernelspec": {
   "display_name": "Python 3 (ipykernel)",
   "language": "python",
   "name": "python3"
  },
  "language_info": {
   "codemirror_mode": {
    "name": "ipython",
    "version": 3
   },
   "file_extension": ".py",
   "mimetype": "text/x-python",
   "name": "python",
   "nbconvert_exporter": "python",
   "pygments_lexer": "ipython3",
   "version": "3.10.9"
  }
 },
 "nbformat": 4,
 "nbformat_minor": 1
}
