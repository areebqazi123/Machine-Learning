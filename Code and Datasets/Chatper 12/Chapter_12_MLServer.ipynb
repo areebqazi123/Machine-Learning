{
 "cells": [
  {
   "cell_type": "markdown",
   "id": "wODEGgq0Y_ce",
   "metadata": {
    "id": "wODEGgq0Y_ce"
   },
   "source": [
    "## 12.6.3.1 Creating the endpoint"
   ]
  },
  {
   "cell_type": "code",
   "execution_count": null,
   "id": "904c6d49-3cd4-47b9-8128-07d7fda00dd1",
   "metadata": {
    "id": "904c6d49-3cd4-47b9-8128-07d7fda00dd1"
   },
   "outputs": [],
   "source": [
    "!pip install Flask"
   ]
  },
  {
   "cell_type": "code",
   "execution_count": null,
   "id": "0fa6a52f",
   "metadata": {
    "id": "0fa6a52f"
   },
   "outputs": [],
   "source": [
    "import mlflow\n",
    "import json\n",
    "import pandas as pd\n",
    "import numpy as np\n",
    "from mlflow import MlflowClient\n",
    "from flask import Flask, jsonify, request"
   ]
  },
  {
   "cell_type": "code",
   "execution_count": null,
   "id": "fd32f323",
   "metadata": {
    "id": "fd32f323"
   },
   "outputs": [],
   "source": [
    "mlflow.set_tracking_uri(uri=\"http://127.0.0.1:8080\")"
   ]
  },
  {
   "cell_type": "code",
   "execution_count": null,
   "id": "ea94ebbe",
   "metadata": {
    "id": "ea94ebbe"
   },
   "outputs": [],
   "source": [
    "# creating a Flask app\n",
    "app = Flask(__name__)\n",
    "app.verbose = True\n",
    "\n",
    "model_name = \"logistic@lab\"\n",
    "app.model = mlflow.pyfunc.load_model(model_uri=f\"models:/{model_name}\")\n",
    "\n",
    "@app.route('/predict', methods=['POST'])\n",
    "def predict():\n",
    "    if(request.method == 'POST'):\n",
    "        data = json.loads(request.data)\n",
    "        print(data)\n",
    "        chd_df = pd.DataFrame(data, index = [0])\n",
    "        pred_prob = app.model.get_raw_model().predict_proba(chd_df)[0][1]\n",
    "\n",
    "        print(f\"Predicted probability is:{pred_prob}\")\n",
    "\n",
    "        return f\"Probability of CHD is: {np.round(pred_prob, 2)}\""
   ]
  },
  {
   "cell_type": "code",
   "execution_count": null,
   "id": "dc1ab3ef",
   "metadata": {
    "id": "dc1ab3ef",
    "outputId": "6937b7e5-b678-42bd-a356-ee1adc523495"
   },
   "outputs": [
    {
     "name": "stdout",
     "output_type": "stream",
     "text": [
      " * Serving Flask app '__main__'\n",
      " * Debug mode: on\n"
     ]
    },
    {
     "name": "stderr",
     "output_type": "stream",
     "text": [
      "\u001b[31m\u001b[1mWARNING: This is a development server. Do not use it in a production deployment. Use a production WSGI server instead.\u001b[0m\n",
      " * Running on http://127.0.0.1:5002\n",
      "\u001b[33mPress CTRL+C to quit\u001b[0m\n",
      "127.0.0.1 - - [06/Jan/2025 16:14:21] \"GET / HTTP/1.1\" 200 -\n",
      "127.0.0.1 - - [06/Jan/2025 16:14:21] \"\u001b[33mGET /favicon.ico HTTP/1.1\u001b[0m\" 404 -\n"
     ]
    }
   ],
   "source": [
    "app.run(port=5002,\n",
    "        debug=True,\n",
    "        use_reloader=False)"
   ]
  }
 ],
 "metadata": {
  "colab": {
   "provenance": []
  },
  "kernelspec": {
   "display_name": "Python 3 (ipykernel)",
   "language": "python",
   "name": "python3"
  },
  "language_info": {
   "codemirror_mode": {
    "name": "ipython",
    "version": 3
   },
   "file_extension": ".py",
   "mimetype": "text/x-python",
   "name": "python",
   "nbconvert_exporter": "python",
   "pygments_lexer": "ipython3",
   "version": "3.10.9"
  }
 },
 "nbformat": 4,
 "nbformat_minor": 5
}
