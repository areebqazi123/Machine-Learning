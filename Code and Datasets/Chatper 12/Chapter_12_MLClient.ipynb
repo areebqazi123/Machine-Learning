{
 "cells": [
  {
   "cell_type": "markdown",
   "id": "oLEYRSO5ZM3n",
   "metadata": {
    "id": "oLEYRSO5ZM3n"
   },
   "source": [
    "### 12.6.3.2 Creating the Client"
   ]
  },
  {
   "cell_type": "code",
   "execution_count": null,
   "id": "ef4d0456-876c-4486-8e31-fc3113b425ac",
   "metadata": {
    "id": "ef4d0456-876c-4486-8e31-fc3113b425ac"
   },
   "outputs": [],
   "source": [
    "import requests, json\n",
    "\n",
    "data = \"\"\"{\"sbp\": 160,\n",
    "          \"tobacco\": 4.8,\n",
    "          \"ldl\": 8.63,\n",
    "          \"adiposity\": 36.21,\n",
    "          \"famhist\": \"Present\",\n",
    "          \"typea\": 50,\n",
    "          \"obesity\": 34.72,\n",
    "          \"alcohol\": 28.8,\n",
    "          \"age\": 60}\n",
    "         \"\"\"\n",
    "\n",
    "json_data = data.replace('\\n', '').replace(' ','')\n",
    "\n",
    "response = requests.post('http://127.0.0.1:5002/predict'\n",
    "                         , data=json_data)\n",
    "\n",
    "print(response.content.decode('utf-8'))"
   ]
  }
 ],
 "metadata": {
  "colab": {
   "provenance": []
  },
  "kernelspec": {
   "display_name": "Python 3 (ipykernel)",
   "language": "python",
   "name": "python3"
  },
  "language_info": {
   "codemirror_mode": {
    "name": "ipython",
    "version": 3
   },
   "file_extension": ".py",
   "mimetype": "text/x-python",
   "name": "python",
   "nbconvert_exporter": "python",
   "pygments_lexer": "ipython3",
   "version": "3.10.9"
  }
 },
 "nbformat": 4,
 "nbformat_minor": 5
}
